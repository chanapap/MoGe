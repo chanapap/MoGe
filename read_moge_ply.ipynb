{
 "cells": [
  {
   "cell_type": "code",
   "execution_count": 1,
   "metadata": {},
   "outputs": [],
   "source": [
    "import numpy as np\n",
    "from plyfile import PlyData, PlyElement\n",
    "from PIL import Image\n",
    "\n",
    "data_name = \"r10\""
   ]
  },
  {
   "cell_type": "code",
   "execution_count": 39,
   "metadata": {},
   "outputs": [],
   "source": [
    "plydata = PlyData.read(rf\"D:\\3d-reconstruction\\MoGe\\output\\{data_name}\\mesh.ply\")"
   ]
  },
  {
   "cell_type": "code",
   "execution_count": 40,
   "metadata": {},
   "outputs": [
    {
     "data": {
      "text/plain": [
       "(PlyElement('vertex', (PlyProperty('x', 'float'), PlyProperty('y', 'float'), PlyProperty('z', 'float'), PlyProperty('red', 'uchar'), PlyProperty('green', 'uchar'), PlyProperty('blue', 'uchar'), PlyProperty('alpha', 'uchar')), count=773825, comments=[]),\n",
       " PlyElement('face', (PlyListProperty('vertex_indices', 'uchar', 'int'),), count=1525934, comments=[]))"
      ]
     },
     "execution_count": 40,
     "metadata": {},
     "output_type": "execute_result"
    }
   ],
   "source": [
    "plydata.elements"
   ]
  },
  {
   "cell_type": "code",
   "execution_count": 41,
   "metadata": {},
   "outputs": [
    {
     "name": "stdout",
     "output_type": "stream",
     "text": [
      "(773825, 3)\n"
     ]
    }
   ],
   "source": [
    "x = plydata['vertex']['x'][:, np.newaxis]\n",
    "y = plydata['vertex']['y'][:, np.newaxis]\n",
    "z = plydata['vertex']['z'][:, np.newaxis]\n",
    "\n",
    "xyz_npy = np.concatenate([x, y, z], axis = 1)\n",
    "print(xyz_npy.shape)"
   ]
  },
  {
   "cell_type": "code",
   "execution_count": 42,
   "metadata": {},
   "outputs": [],
   "source": [
    "np.save(rf\"D:\\3d-reconstruction\\MoGe\\output\\{data_name}\\xyz.npy\", xyz_npy)"
   ]
  }
 ],
 "metadata": {
  "kernelspec": {
   "display_name": "gs",
   "language": "python",
   "name": "python3"
  },
  "language_info": {
   "codemirror_mode": {
    "name": "ipython",
    "version": 3
   },
   "file_extension": ".py",
   "mimetype": "text/x-python",
   "name": "python",
   "nbconvert_exporter": "python",
   "pygments_lexer": "ipython3",
   "version": "3.8.20"
  }
 },
 "nbformat": 4,
 "nbformat_minor": 2
}
